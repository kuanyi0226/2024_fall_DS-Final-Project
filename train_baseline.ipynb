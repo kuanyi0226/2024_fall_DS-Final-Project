{
 "cells": [
  {
   "cell_type": "code",
   "execution_count": 11,
   "metadata": {},
   "outputs": [],
   "source": [
    "import pandas as pd\n",
    "import numpy as np\n",
    "from datetime import datetime\n",
    "from sklearn.ensemble import RandomForestRegressor\n",
    "from sklearn.metrics import mean_squared_error\n",
    "import joblib"
   ]
  },
  {
   "cell_type": "code",
   "execution_count": 12,
   "metadata": {},
   "outputs": [],
   "source": [
    "# 1. 數據加載與處理\n",
    "def load_and_preprocess_data(file_path):\n",
    "    # 讀取資料\n",
    "    df = pd.read_csv(file_path)\n",
    "\n",
    "    # 民國年轉西元年\n",
    "    def convert_date(x):\n",
    "        parts = x.split('/')\n",
    "        year = int(parts[0]) + 1911  # 民國年轉換\n",
    "        return f\"{year}-{parts[1]}-{parts[2]}\"\n",
    "\n",
    "    df['日期'] = df['日期'].apply(convert_date)\n",
    "    df['日期'] = pd.to_datetime(df['日期'], format='%Y-%m-%d')\n",
    "\n",
    "    # 添加時間特徵\n",
    "    df['天數'] = (df['日期'] - df['日期'].min()).dt.days\n",
    "    df['月'] = df['日期'].dt.month\n",
    "    df['日'] = df['日期'].dt.day\n",
    "    df['星期'] = df['日期'].dt.weekday\n",
    "\n",
    "    # 添加滯後特徵\n",
    "    for i in range(1, 8):\n",
    "        df[f'滯後{i}日平均價'] = df['平均價'].shift(i)\n",
    "\n",
    "    # 創建目標變量: 7天後的平均價\n",
    "    df['7日後平均價'] = df['平均價'].shift(-7)\n",
    "\n",
    "    # 去除無效數據\n",
    "    df = df.dropna()\n",
    "\n",
    "    return df"
   ]
  },
  {
   "cell_type": "code",
   "execution_count": 13,
   "metadata": {},
   "outputs": [],
   "source": [
    "# 2. 訓練與驗證\n",
    "def train_and_evaluate_model(df):\n",
    "    # 分割數據集\n",
    "    train_data = df[df['日期'] < datetime(2022, 1, 1)]\n",
    "    val_data = df[(df['日期'] >= datetime(2022, 1, 1)) & (df['日期'] < datetime(2024, 1, 1))]\n",
    "    test_data = df[df['日期'] >= datetime(2024, 1, 1)]\n",
    "\n",
    "    # 特徵與目標\n",
    "    features = ['天數', '月', '日', '星期'] + [f'滯後{i}日平均價' for i in range(1, 8)]\n",
    "    X_train, y_train = train_data[features], train_data['7日後平均價']\n",
    "    X_val, y_val = val_data[features], val_data['7日後平均價']\n",
    "    X_test = test_data[features]\n",
    "\n",
    "    # 訓練 Random Forest 模型\n",
    "    model = RandomForestRegressor(n_estimators=200, max_depth=10, random_state=42, n_jobs=-1)\n",
    "    model.fit(X_train, y_train)\n",
    "\n",
    "    # 驗證模型\n",
    "    y_val_pred = model.predict(X_val)\n",
    "    val_rmse = mean_squared_error(y_val, y_val_pred, squared=False)\n",
    "    print(f\"Validation RMSE: {val_rmse}\")\n",
    "\n",
    "    return model, X_test, test_data"
   ]
  },
  {
   "cell_type": "code",
   "execution_count": 16,
   "metadata": {},
   "outputs": [],
   "source": [
    "# 3. 預測與輸出\n",
    "def predict_and_save_results(model, X_test, test_data, output_path):\n",
    "    # 預測測試集\n",
    "    test_data['預測價'] = model.predict(X_test)\n",
    "\n",
    "     # 檢查是否有真實值可用於計算 RMSE\n",
    "    if '7日後平均價' in test_data.columns:\n",
    "        # 計算 RMSE\n",
    "        rmse = mean_squared_error(test_data['7日後平均價'], test_data['預測價'], squared=False)\n",
    "        print(f\"Test RMSE: {rmse}\")\n",
    "    else:\n",
    "        print(\"Test dataset does not contain true values for RMSE calculation.\")\n",
    "\n",
    "    # 保存結果\n",
    "    test_data[['日期', '預測價']].to_csv(output_path, index=False)\n",
    "    print(f\"Predictions saved to {output_path}\")"
   ]
  },
  {
   "cell_type": "code",
   "execution_count": 17,
   "metadata": {},
   "outputs": [
    {
     "name": "stdout",
     "output_type": "stream",
     "text": [
      "Validation RMSE: 7.380465687706593\n",
      "Test RMSE: 9.624527134037073\n",
      "Predictions saved to output.csv\n"
     ]
    },
    {
     "name": "stderr",
     "output_type": "stream",
     "text": [
      "c:\\Users\\KuanYi\\AppData\\Local\\Programs\\Python\\Python310\\lib\\site-packages\\sklearn\\metrics\\_regression.py:483: FutureWarning: 'squared' is deprecated in version 1.4 and will be removed in 1.6. To calculate the root mean squared error, use the function'root_mean_squared_error'.\n",
      "  warnings.warn(\n",
      "C:\\Users\\KuanYi\\AppData\\Local\\Temp\\ipykernel_11984\\615644434.py:4: SettingWithCopyWarning: \n",
      "A value is trying to be set on a copy of a slice from a DataFrame.\n",
      "Try using .loc[row_indexer,col_indexer] = value instead\n",
      "\n",
      "See the caveats in the documentation: https://pandas.pydata.org/pandas-docs/stable/user_guide/indexing.html#returning-a-view-versus-a-copy\n",
      "  test_data['預測價'] = model.predict(X_test)\n",
      "c:\\Users\\KuanYi\\AppData\\Local\\Programs\\Python\\Python310\\lib\\site-packages\\sklearn\\metrics\\_regression.py:483: FutureWarning: 'squared' is deprecated in version 1.4 and will be removed in 1.6. To calculate the root mean squared error, use the function'root_mean_squared_error'.\n",
      "  warnings.warn(\n"
     ]
    }
   ],
   "source": [
    "# 主程式\n",
    "file_path = \"data/甘藍初秋_台北一日交易行情.csv\"\n",
    "output_path = \"output.csv\"\n",
    "\n",
    "# 數據加載與處理\n",
    "df = load_and_preprocess_data(file_path)\n",
    "\n",
    "# 訓練與驗證\n",
    "model, X_test, test_data = train_and_evaluate_model(df)\n",
    "\n",
    "# 預測與保存結果\n",
    "predict_and_save_results(model, X_test, test_data, output_path)"
   ]
  }
 ],
 "metadata": {
  "kernelspec": {
   "display_name": "Python 3",
   "language": "python",
   "name": "python3"
  },
  "language_info": {
   "codemirror_mode": {
    "name": "ipython",
    "version": 3
   },
   "file_extension": ".py",
   "mimetype": "text/x-python",
   "name": "python",
   "nbconvert_exporter": "python",
   "pygments_lexer": "ipython3",
   "version": "3.10.2"
  }
 },
 "nbformat": 4,
 "nbformat_minor": 2
}
