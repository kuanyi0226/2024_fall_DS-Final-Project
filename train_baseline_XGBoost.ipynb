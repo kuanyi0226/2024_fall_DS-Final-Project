{
 "cells": [
  {
   "cell_type": "code",
   "execution_count": 22,
   "metadata": {},
   "outputs": [],
   "source": [
    "import pandas as pd\n",
    "import numpy as np\n",
    "from datetime import datetime\n",
    "from xgboost import XGBRegressor\n",
    "from sklearn.metrics import mean_squared_error\n",
    "import joblib"
   ]
  },
  {
   "cell_type": "code",
   "execution_count": 23,
   "metadata": {},
   "outputs": [],
   "source": [
    "# 1. 數據加載與處理\n",
    "def load_and_preprocess_data(file_path):\n",
    "    # 讀取資料\n",
    "    df = pd.read_csv(file_path)\n",
    "\n",
    "    # 民國年轉西元年\n",
    "    def convert_date(x):\n",
    "        parts = x.split('/')\n",
    "        year = int(parts[0]) + 1911  # 民國年轉換\n",
    "        return f\"{year}-{parts[1]}-{parts[2]}\"\n",
    "\n",
    "    df['日期'] = df['日期'].apply(convert_date)\n",
    "    df['日期'] = pd.to_datetime(df['日期'], format='%Y-%m-%d')\n",
    "\n",
    "    # 添加時間特徵\n",
    "    df['天數'] = (df['日期'] - df['日期'].min()).dt.days\n",
    "    df['月'] = df['日期'].dt.month\n",
    "    df['日'] = df['日期'].dt.day\n",
    "    df['星期'] = df['日期'].dt.weekday\n",
    "\n",
    "    # 添加滯後特徵\n",
    "    for i in range(1, 8):\n",
    "        df[f'滯後{i}日平均價'] = df['平均價'].shift(i)\n",
    "\n",
    "    # 創建目標變量: 7天後的平均價\n",
    "    df['7日後平均價'] = df['平均價'].shift(-7)\n",
    "\n",
    "    # 去除無效數據\n",
    "    df = df.dropna()\n",
    "\n",
    "    return df"
   ]
  },
  {
   "cell_type": "code",
   "execution_count": 24,
   "metadata": {},
   "outputs": [],
   "source": [
    "# 2. 訓練與驗證\n",
    "def train_and_evaluate_model(df):\n",
    "    # 分割數據集\n",
    "    train_data = df[df['日期'] < datetime(2022, 1, 1)]\n",
    "    val_data = df[(df['日期'] >= datetime(2022, 1, 1)) & (df['日期'] < datetime(2024, 1, 1))]\n",
    "    test_data = df[df['日期'] >= datetime(2024, 1, 1)]\n",
    "\n",
    "    # 特徵與目標\n",
    "    features = ['天數', '月', '日', '星期'] + [f'滯後{i}日平均價' for i in range(1, 8)]\n",
    "    X_train, y_train = train_data[features], train_data['7日後平均價']\n",
    "    X_val, y_val = val_data[features], val_data['7日後平均價']\n",
    "    X_test = test_data[features]\n",
    "\n",
    "    # 訓練 Random Forest 模型\n",
    "    model = XGBRegressor(\n",
    "        n_estimators=100,        # 樹的數量\n",
    "        max_depth=6,             # 樹的最大深度\n",
    "        learning_rate=0.1,       # 學習率\n",
    "        subsample=0.8,           # 每棵樹使用的數據比例\n",
    "        colsample_bytree=0.8,    # 每棵樹使用的特徵比例\n",
    "        gamma=0,                 # 節點分裂的損失減少要求\n",
    "        reg_alpha=0,             # L1正則化\n",
    "        reg_lambda=1,            # L2正則化\n",
    "        random_state=42          # 隨機種子\n",
    "    )\n",
    "    model.fit(X_train, y_train)\n",
    "\n",
    "    # 驗證模型\n",
    "    y_val_pred = model.predict(X_val)\n",
    "    val_rmse = mean_squared_error(y_val, y_val_pred, squared=False)\n",
    "    print(f\"Validation RMSE: {val_rmse}\")\n",
    "\n",
    "    return model, X_test, test_data"
   ]
  },
  {
   "cell_type": "code",
   "execution_count": 25,
   "metadata": {},
   "outputs": [],
   "source": [
    "# 3. 預測與輸出\n",
    "def predict_and_save_results(model, X_test, test_data, output_path):\n",
    "    # 預測測試集\n",
    "    test_data['預測價'] = model.predict(X_test)\n",
    "\n",
    "     # 檢查是否有真實值可用於計算 RMSE\n",
    "    if '7日後平均價' in test_data.columns:\n",
    "        # 計算 RMSE\n",
    "        rmse = mean_squared_error(test_data['7日後平均價'], test_data['預測價'], squared=False)\n",
    "        print(f\"Test RMSE: {rmse}\")\n",
    "    else:\n",
    "        print(\"Test dataset does not contain true values for RMSE calculation.\")\n",
    "\n",
    "    # 保存結果\n",
    "    test_data[['日期', '預測價']].to_csv(output_path, index=False)\n",
    "    print(f\"Predictions saved to {output_path}\")"
   ]
  },
  {
   "cell_type": "code",
   "execution_count": 26,
   "metadata": {},
   "outputs": [
    {
     "name": "stdout",
     "output_type": "stream",
     "text": [
      "Validation RMSE: 8.953194425703565\n",
      "Test RMSE: 11.081864595657766\n",
      "Predictions saved to output_XGBoost.csv\n"
     ]
    },
    {
     "name": "stderr",
     "output_type": "stream",
     "text": [
      "c:\\Users\\User\\AppData\\Local\\Programs\\Python\\Python312\\Lib\\site-packages\\sklearn\\metrics\\_regression.py:492: FutureWarning: 'squared' is deprecated in version 1.4 and will be removed in 1.6. To calculate the root mean squared error, use the function'root_mean_squared_error'.\n",
      "  warnings.warn(\n",
      "C:\\Users\\User\\AppData\\Local\\Temp\\ipykernel_2396\\615644434.py:4: SettingWithCopyWarning: \n",
      "A value is trying to be set on a copy of a slice from a DataFrame.\n",
      "Try using .loc[row_indexer,col_indexer] = value instead\n",
      "\n",
      "See the caveats in the documentation: https://pandas.pydata.org/pandas-docs/stable/user_guide/indexing.html#returning-a-view-versus-a-copy\n",
      "  test_data['預測價'] = model.predict(X_test)\n",
      "c:\\Users\\User\\AppData\\Local\\Programs\\Python\\Python312\\Lib\\site-packages\\sklearn\\metrics\\_regression.py:492: FutureWarning: 'squared' is deprecated in version 1.4 and will be removed in 1.6. To calculate the root mean squared error, use the function'root_mean_squared_error'.\n",
      "  warnings.warn(\n"
     ]
    }
   ],
   "source": [
    "# 主程式\n",
    "file_path = \"data/甘藍初秋_台北一日交易行情.csv\"\n",
    "output_path = \"output_XGBoost.csv\"\n",
    "\n",
    "# 數據加載與處理\n",
    "df = load_and_preprocess_data(file_path)\n",
    "\n",
    "# 訓練與驗證\n",
    "model, X_test, test_data = train_and_evaluate_model(df)\n",
    "\n",
    "# 預測與保存結果\n",
    "predict_and_save_results(model, X_test, test_data, output_path)"
   ]
  }
 ],
 "metadata": {
  "kernelspec": {
   "display_name": "Python 3",
   "language": "python",
   "name": "python3"
  },
  "language_info": {
   "codemirror_mode": {
    "name": "ipython",
    "version": 3
   },
   "file_extension": ".py",
   "mimetype": "text/x-python",
   "name": "python",
   "nbconvert_exporter": "python",
   "pygments_lexer": "ipython3",
   "version": "3.12.6"
  }
 },
 "nbformat": 4,
 "nbformat_minor": 2
}
